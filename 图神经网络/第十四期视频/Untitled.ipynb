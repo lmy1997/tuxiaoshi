{
 "cells": [
  {
   "cell_type": "code",
   "execution_count": null,
   "id": "2c493998-46d5-492d-9ae1-f56f562fe5f6",
   "metadata": {},
   "outputs": [
    {
     "name": "stdout",
     "output_type": "stream",
     "text": [
      "Data(x=[2708, 1433], edge_index=[2, 10556], y=[2708], train_mask=[2708], val_mask=[2708], test_mask=[2708])\n",
      "FE_GNN(\n",
      "  (basis_generator): Basis_Generator(\n",
      "    (mp): MP()\n",
      "  )\n",
      "  (lin_lxs): ModuleList(\n",
      "    (0): Linear(in_features=1433, out_features=64, bias=True)\n",
      "    (1): Linear(in_features=1433, out_features=64, bias=True)\n",
      "    (2): Linear(in_features=1433, out_features=64, bias=True)\n",
      "  )\n",
      "  (lin_x): Linear(in_features=1433, out_features=64, bias=True)\n",
      "  (lin_lx): Linear(in_features=1433, out_features=64, bias=True)\n",
      "  (lin_l): Linear(in_features=50, out_features=64, bias=True)\n",
      "  (cls): Linear(in_features=64, out_features=7, bias=True)\n",
      ")\n",
      "Loaded Cora dataset with 2708 nodes and 10556 edges.\n",
      "Epoch: [001/1000], Loss: 1.9508, Train: 0.9929, Val: 0.4720, Test: 0.4820\n",
      "Epoch: [002/1000], Loss: 1.6576, Train: 1.0000, Val: 0.5620, Test: 0.5740\n",
      "Epoch: [003/1000], Loss: 1.3400, Train: 1.0000, Val: 0.6800, Test: 0.6810\n",
      "Epoch: [004/1000], Loss: 1.0092, Train: 1.0000, Val: 0.7140, Test: 0.7190\n",
      "Epoch: [005/1000], Loss: 0.7046, Train: 1.0000, Val: 0.7240, Test: 0.7080\n",
      "Epoch: [006/1000], Loss: 0.4565, Train: 1.0000, Val: 0.7140, Test: 0.6920\n",
      "Epoch: [007/1000], Loss: 0.2758, Train: 1.0000, Val: 0.7080, Test: 0.6910\n",
      "Epoch: [008/1000], Loss: 0.1575, Train: 1.0000, Val: 0.7100, Test: 0.6840\n",
      "Epoch: [009/1000], Loss: 0.0866, Train: 1.0000, Val: 0.7060, Test: 0.6890\n",
      "Epoch: [010/1000], Loss: 0.0468, Train: 1.0000, Val: 0.6960, Test: 0.6890\n",
      "Epoch: [011/1000], Loss: 0.0253, Train: 1.0000, Val: 0.6980, Test: 0.6840\n",
      "Epoch: [012/1000], Loss: 0.0139, Train: 1.0000, Val: 0.6940, Test: 0.6820\n",
      "Epoch: [013/1000], Loss: 0.0079, Train: 1.0000, Val: 0.6960, Test: 0.6790\n",
      "Epoch: [014/1000], Loss: 0.0046, Train: 1.0000, Val: 0.6880, Test: 0.6810\n",
      "Epoch: [015/1000], Loss: 0.0028, Train: 1.0000, Val: 0.6860, Test: 0.6810\n",
      "Epoch: [016/1000], Loss: 0.0018, Train: 1.0000, Val: 0.6860, Test: 0.6810\n",
      "Epoch: [017/1000], Loss: 0.0012, Train: 1.0000, Val: 0.6840, Test: 0.6810\n",
      "Epoch: [018/1000], Loss: 0.0008, Train: 1.0000, Val: 0.6840, Test: 0.6830\n",
      "Epoch: [019/1000], Loss: 0.0006, Train: 1.0000, Val: 0.6840, Test: 0.6780\n",
      "Epoch: [020/1000], Loss: 0.0005, Train: 1.0000, Val: 0.6860, Test: 0.6760\n",
      "Epoch: [021/1000], Loss: 0.0004, Train: 1.0000, Val: 0.6860, Test: 0.6730\n",
      "Epoch: [022/1000], Loss: 0.0003, Train: 1.0000, Val: 0.6820, Test: 0.6710\n",
      "Epoch: [023/1000], Loss: 0.0002, Train: 1.0000, Val: 0.6820, Test: 0.6660\n",
      "Epoch: [024/1000], Loss: 0.0002, Train: 1.0000, Val: 0.6800, Test: 0.6650\n",
      "Epoch: [025/1000], Loss: 0.0002, Train: 1.0000, Val: 0.6760, Test: 0.6650\n",
      "Epoch: [026/1000], Loss: 0.0002, Train: 1.0000, Val: 0.6740, Test: 0.6640\n",
      "Epoch: [027/1000], Loss: 0.0002, Train: 1.0000, Val: 0.6720, Test: 0.6630\n",
      "Epoch: [028/1000], Loss: 0.0002, Train: 1.0000, Val: 0.6720, Test: 0.6620\n",
      "Epoch: [029/1000], Loss: 0.0002, Train: 1.0000, Val: 0.6680, Test: 0.6590\n",
      "Epoch: [030/1000], Loss: 0.0002, Train: 1.0000, Val: 0.6680, Test: 0.6600\n",
      "Epoch: [031/1000], Loss: 0.0002, Train: 1.0000, Val: 0.6680, Test: 0.6610\n",
      "Epoch: [032/1000], Loss: 0.0002, Train: 1.0000, Val: 0.6680, Test: 0.6610\n",
      "Epoch: [033/1000], Loss: 0.0002, Train: 1.0000, Val: 0.6660, Test: 0.6580\n",
      "Epoch: [034/1000], Loss: 0.0002, Train: 1.0000, Val: 0.6680, Test: 0.6560\n",
      "Epoch: [035/1000], Loss: 0.0003, Train: 1.0000, Val: 0.6680, Test: 0.6560\n",
      "Epoch: [036/1000], Loss: 0.0003, Train: 1.0000, Val: 0.6660, Test: 0.6560\n",
      "Epoch: [037/1000], Loss: 0.0003, Train: 1.0000, Val: 0.6620, Test: 0.6550\n",
      "Epoch: [038/1000], Loss: 0.0004, Train: 1.0000, Val: 0.6640, Test: 0.6560\n",
      "Epoch: [039/1000], Loss: 0.0005, Train: 1.0000, Val: 0.6620, Test: 0.6560\n",
      "Epoch: [040/1000], Loss: 0.0005, Train: 1.0000, Val: 0.6640, Test: 0.6570\n",
      "Epoch: [041/1000], Loss: 0.0006, Train: 1.0000, Val: 0.6620, Test: 0.6570\n",
      "Epoch: [042/1000], Loss: 0.0007, Train: 1.0000, Val: 0.6660, Test: 0.6570\n",
      "Epoch: [043/1000], Loss: 0.0008, Train: 1.0000, Val: 0.6680, Test: 0.6590\n",
      "Epoch: [044/1000], Loss: 0.0010, Train: 1.0000, Val: 0.6700, Test: 0.6600\n",
      "Epoch: [045/1000], Loss: 0.0011, Train: 1.0000, Val: 0.6740, Test: 0.6610\n",
      "Epoch: [046/1000], Loss: 0.0013, Train: 1.0000, Val: 0.6740, Test: 0.6650\n",
      "Epoch: [047/1000], Loss: 0.0015, Train: 1.0000, Val: 0.6820, Test: 0.6650\n",
      "Epoch: [048/1000], Loss: 0.0017, Train: 1.0000, Val: 0.6840, Test: 0.6720\n",
      "Epoch: [049/1000], Loss: 0.0020, Train: 1.0000, Val: 0.6820, Test: 0.6750\n",
      "Epoch: [050/1000], Loss: 0.0023, Train: 1.0000, Val: 0.6880, Test: 0.6840\n",
      "Epoch: [051/1000], Loss: 0.0026, Train: 1.0000, Val: 0.6980, Test: 0.6950\n",
      "Epoch: [052/1000], Loss: 0.0030, Train: 1.0000, Val: 0.7100, Test: 0.7040\n",
      "Epoch: [053/1000], Loss: 0.0034, Train: 1.0000, Val: 0.7080, Test: 0.7140\n",
      "Epoch: [054/1000], Loss: 0.0038, Train: 1.0000, Val: 0.7160, Test: 0.7200\n",
      "Epoch: [055/1000], Loss: 0.0042, Train: 1.0000, Val: 0.7220, Test: 0.7260\n",
      "Epoch: [056/1000], Loss: 0.0047, Train: 1.0000, Val: 0.7200, Test: 0.7280\n",
      "Epoch: [057/1000], Loss: 0.0052, Train: 1.0000, Val: 0.7180, Test: 0.7330\n"
     ]
    }
   ],
   "source": [
    "!python main.py"
   ]
  },
  {
   "cell_type": "code",
   "execution_count": null,
   "id": "57ab07ac-25ca-4920-ac18-32fa79c7fd97",
   "metadata": {},
   "outputs": [],
   "source": []
  },
  {
   "cell_type": "code",
   "execution_count": null,
   "id": "80dc3618-90c3-4006-9666-450102b04059",
   "metadata": {},
   "outputs": [],
   "source": []
  }
 ],
 "metadata": {
  "kernelspec": {
   "display_name": "Python 3 (ipykernel)",
   "language": "python",
   "name": "python3"
  },
  "language_info": {
   "codemirror_mode": {
    "name": "ipython",
    "version": 3
   },
   "file_extension": ".py",
   "mimetype": "text/x-python",
   "name": "python",
   "nbconvert_exporter": "python",
   "pygments_lexer": "ipython3",
   "version": "3.8.10"
  }
 },
 "nbformat": 4,
 "nbformat_minor": 5
}
